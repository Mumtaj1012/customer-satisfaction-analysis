{
 "cells": [
  {
   "cell_type": "code",
   "execution_count": 5,
   "id": "8a67ec95-540d-45c5-9fde-501b3e93da8a",
   "metadata": {},
   "outputs": [],
   "source": [
    "import pandas as pd\n",
    "import matplotlib.pyplot as plt\n",
    "import seaborn as sns"
   ]
  },
  {
   "cell_type": "code",
   "execution_count": 13,
   "id": "bf39ab2a-9020-4711-96f3-0839337e6c28",
   "metadata": {},
   "outputs": [
    {
     "data": {
      "text/html": [
       "<div>\n",
       "<style scoped>\n",
       "    .dataframe tbody tr th:only-of-type {\n",
       "        vertical-align: middle;\n",
       "    }\n",
       "\n",
       "    .dataframe tbody tr th {\n",
       "        vertical-align: top;\n",
       "    }\n",
       "\n",
       "    .dataframe thead th {\n",
       "        text-align: right;\n",
       "    }\n",
       "</style>\n",
       "<table border=\"1\" class=\"dataframe\">\n",
       "  <thead>\n",
       "    <tr style=\"text-align: right;\">\n",
       "      <th></th>\n",
       "      <th>Ticket ID</th>\n",
       "      <th>Customer Name</th>\n",
       "      <th>Customer Email</th>\n",
       "      <th>Customer Age</th>\n",
       "      <th>Customer Gender</th>\n",
       "      <th>Product Purchased</th>\n",
       "      <th>Date of Purchase</th>\n",
       "      <th>Ticket Type</th>\n",
       "      <th>Ticket Subject</th>\n",
       "      <th>Ticket Description</th>\n",
       "      <th>Ticket Status</th>\n",
       "      <th>Resolution</th>\n",
       "      <th>Ticket Priority</th>\n",
       "      <th>Ticket Channel</th>\n",
       "      <th>First Response Time</th>\n",
       "      <th>Time to Resolution</th>\n",
       "      <th>Customer Satisfaction Rating</th>\n",
       "    </tr>\n",
       "  </thead>\n",
       "  <tbody>\n",
       "    <tr>\n",
       "      <th>0</th>\n",
       "      <td>1</td>\n",
       "      <td>Marisa Obrien</td>\n",
       "      <td>carrollallison@example.com</td>\n",
       "      <td>32</td>\n",
       "      <td>Other</td>\n",
       "      <td>GoPro Hero</td>\n",
       "      <td>22-03-2021</td>\n",
       "      <td>Technical issue</td>\n",
       "      <td>Product setup</td>\n",
       "      <td>I'm having an issue with the {product_purchase...</td>\n",
       "      <td>Pending Customer Response</td>\n",
       "      <td>Not Provided</td>\n",
       "      <td>Critical</td>\n",
       "      <td>Social media</td>\n",
       "      <td>01-06-2023 12:15</td>\n",
       "      <td>NaN</td>\n",
       "      <td>NaN</td>\n",
       "    </tr>\n",
       "    <tr>\n",
       "      <th>1</th>\n",
       "      <td>2</td>\n",
       "      <td>Jessica Rios</td>\n",
       "      <td>clarkeashley@example.com</td>\n",
       "      <td>42</td>\n",
       "      <td>Female</td>\n",
       "      <td>LG Smart TV</td>\n",
       "      <td>22-05-2021</td>\n",
       "      <td>Technical issue</td>\n",
       "      <td>Peripheral compatibility</td>\n",
       "      <td>I'm having an issue with the {product_purchase...</td>\n",
       "      <td>Pending Customer Response</td>\n",
       "      <td>Not Provided</td>\n",
       "      <td>Critical</td>\n",
       "      <td>Chat</td>\n",
       "      <td>01-06-2023 16:45</td>\n",
       "      <td>NaN</td>\n",
       "      <td>NaN</td>\n",
       "    </tr>\n",
       "    <tr>\n",
       "      <th>2</th>\n",
       "      <td>3</td>\n",
       "      <td>Christopher Robbins</td>\n",
       "      <td>gonzalestracy@example.com</td>\n",
       "      <td>48</td>\n",
       "      <td>Other</td>\n",
       "      <td>Dell XPS</td>\n",
       "      <td>14-07-2020</td>\n",
       "      <td>Technical issue</td>\n",
       "      <td>Network problem</td>\n",
       "      <td>I'm facing a problem with my {product_purchase...</td>\n",
       "      <td>Closed</td>\n",
       "      <td>Case maybe show recently my computer follow.</td>\n",
       "      <td>Low</td>\n",
       "      <td>Social media</td>\n",
       "      <td>01-06-2023 11:14</td>\n",
       "      <td>01-06-2023 18:05</td>\n",
       "      <td>3.0</td>\n",
       "    </tr>\n",
       "    <tr>\n",
       "      <th>3</th>\n",
       "      <td>4</td>\n",
       "      <td>Christina Dillon</td>\n",
       "      <td>bradleyolson@example.org</td>\n",
       "      <td>27</td>\n",
       "      <td>Female</td>\n",
       "      <td>Microsoft Office</td>\n",
       "      <td>13-11-2020</td>\n",
       "      <td>Billing inquiry</td>\n",
       "      <td>Account access</td>\n",
       "      <td>I'm having an issue with the {product_purchase...</td>\n",
       "      <td>Closed</td>\n",
       "      <td>Try capital clearly never color toward story.</td>\n",
       "      <td>Low</td>\n",
       "      <td>Social media</td>\n",
       "      <td>01-06-2023 07:29</td>\n",
       "      <td>01-06-2023 01:57</td>\n",
       "      <td>3.0</td>\n",
       "    </tr>\n",
       "    <tr>\n",
       "      <th>4</th>\n",
       "      <td>5</td>\n",
       "      <td>Alexander Carroll</td>\n",
       "      <td>bradleymark@example.com</td>\n",
       "      <td>67</td>\n",
       "      <td>Female</td>\n",
       "      <td>Autodesk AutoCAD</td>\n",
       "      <td>04-02-2020</td>\n",
       "      <td>Billing inquiry</td>\n",
       "      <td>Data loss</td>\n",
       "      <td>I'm having an issue with the {product_purchase...</td>\n",
       "      <td>Closed</td>\n",
       "      <td>West decision evidence bit.</td>\n",
       "      <td>Low</td>\n",
       "      <td>Email</td>\n",
       "      <td>01-06-2023 00:12</td>\n",
       "      <td>01-06-2023 19:53</td>\n",
       "      <td>1.0</td>\n",
       "    </tr>\n",
       "  </tbody>\n",
       "</table>\n",
       "</div>"
      ],
      "text/plain": [
       "   Ticket ID        Customer Name              Customer Email  Customer Age  \\\n",
       "0          1        Marisa Obrien  carrollallison@example.com            32   \n",
       "1          2         Jessica Rios    clarkeashley@example.com            42   \n",
       "2          3  Christopher Robbins   gonzalestracy@example.com            48   \n",
       "3          4     Christina Dillon    bradleyolson@example.org            27   \n",
       "4          5    Alexander Carroll     bradleymark@example.com            67   \n",
       "\n",
       "  Customer Gender Product Purchased Date of Purchase      Ticket Type  \\\n",
       "0           Other        GoPro Hero       22-03-2021  Technical issue   \n",
       "1          Female       LG Smart TV       22-05-2021  Technical issue   \n",
       "2           Other          Dell XPS       14-07-2020  Technical issue   \n",
       "3          Female  Microsoft Office       13-11-2020  Billing inquiry   \n",
       "4          Female  Autodesk AutoCAD       04-02-2020  Billing inquiry   \n",
       "\n",
       "             Ticket Subject  \\\n",
       "0             Product setup   \n",
       "1  Peripheral compatibility   \n",
       "2           Network problem   \n",
       "3            Account access   \n",
       "4                 Data loss   \n",
       "\n",
       "                                  Ticket Description  \\\n",
       "0  I'm having an issue with the {product_purchase...   \n",
       "1  I'm having an issue with the {product_purchase...   \n",
       "2  I'm facing a problem with my {product_purchase...   \n",
       "3  I'm having an issue with the {product_purchase...   \n",
       "4  I'm having an issue with the {product_purchase...   \n",
       "\n",
       "               Ticket Status                                     Resolution  \\\n",
       "0  Pending Customer Response                                   Not Provided   \n",
       "1  Pending Customer Response                                   Not Provided   \n",
       "2                     Closed   Case maybe show recently my computer follow.   \n",
       "3                     Closed  Try capital clearly never color toward story.   \n",
       "4                     Closed                    West decision evidence bit.   \n",
       "\n",
       "  Ticket Priority Ticket Channel First Response Time Time to Resolution  \\\n",
       "0        Critical   Social media    01-06-2023 12:15                NaN   \n",
       "1        Critical           Chat    01-06-2023 16:45                NaN   \n",
       "2             Low   Social media    01-06-2023 11:14   01-06-2023 18:05   \n",
       "3             Low   Social media    01-06-2023 07:29   01-06-2023 01:57   \n",
       "4             Low          Email    01-06-2023 00:12   01-06-2023 19:53   \n",
       "\n",
       "   Customer Satisfaction Rating  \n",
       "0                           NaN  \n",
       "1                           NaN  \n",
       "2                           3.0  \n",
       "3                           3.0  \n",
       "4                           1.0  "
      ]
     },
     "execution_count": 13,
     "metadata": {},
     "output_type": "execute_result"
    }
   ],
   "source": [
    "df = pd.read_csv('customer_support_tickets.csv')\n",
    "# View data\n",
    "df.head()"
   ]
  },
  {
   "cell_type": "code",
   "execution_count": 17,
   "id": "f442e630-c9e5-447b-8369-3d00757871af",
   "metadata": {},
   "outputs": [
    {
     "data": {
      "text/plain": [
       "(8469, 17)"
      ]
     },
     "execution_count": 17,
     "metadata": {},
     "output_type": "execute_result"
    }
   ],
   "source": [
    "df.shape     # Rows & columns"
   ]
  },
  {
   "cell_type": "code",
   "execution_count": 19,
   "id": "95cefffe-4b0b-4735-b2c5-46789d9df160",
   "metadata": {},
   "outputs": [
    {
     "data": {
      "text/plain": [
       "Index(['Ticket ID', 'Customer Name', 'Customer Email', 'Customer Age',\n",
       "       'Customer Gender', 'Product Purchased', 'Date of Purchase',\n",
       "       'Ticket Type', 'Ticket Subject', 'Ticket Description', 'Ticket Status',\n",
       "       'Resolution', 'Ticket Priority', 'Ticket Channel',\n",
       "       'First Response Time', 'Time to Resolution',\n",
       "       'Customer Satisfaction Rating'],\n",
       "      dtype='object')"
      ]
     },
     "execution_count": 19,
     "metadata": {},
     "output_type": "execute_result"
    }
   ],
   "source": [
    "df.columns     # Column names"
   ]
  },
  {
   "cell_type": "code",
   "execution_count": 21,
   "id": "3de9c8db-1eee-42e0-a311-55ef243f7252",
   "metadata": {},
   "outputs": [
    {
     "name": "stdout",
     "output_type": "stream",
     "text": [
      "<class 'pandas.core.frame.DataFrame'>\n",
      "RangeIndex: 8469 entries, 0 to 8468\n",
      "Data columns (total 17 columns):\n",
      " #   Column                        Non-Null Count  Dtype  \n",
      "---  ------                        --------------  -----  \n",
      " 0   Ticket ID                     8469 non-null   int64  \n",
      " 1   Customer Name                 8469 non-null   object \n",
      " 2   Customer Email                8469 non-null   object \n",
      " 3   Customer Age                  8469 non-null   int64  \n",
      " 4   Customer Gender               8469 non-null   object \n",
      " 5   Product Purchased             8469 non-null   object \n",
      " 6   Date of Purchase              8469 non-null   object \n",
      " 7   Ticket Type                   8469 non-null   object \n",
      " 8   Ticket Subject                8469 non-null   object \n",
      " 9   Ticket Description            8469 non-null   object \n",
      " 10  Ticket Status                 8469 non-null   object \n",
      " 11  Resolution                    8469 non-null   object \n",
      " 12  Ticket Priority               8469 non-null   object \n",
      " 13  Ticket Channel                8469 non-null   object \n",
      " 14  First Response Time           5650 non-null   object \n",
      " 15  Time to Resolution            2769 non-null   object \n",
      " 16  Customer Satisfaction Rating  2769 non-null   float64\n",
      "dtypes: float64(1), int64(2), object(14)\n",
      "memory usage: 1.1+ MB\n"
     ]
    }
   ],
   "source": [
    "df.info()  # Data types & nulls"
   ]
  },
  {
   "cell_type": "code",
   "execution_count": 23,
   "id": "bb281a46-5511-4270-82c9-714abb68445c",
   "metadata": {},
   "outputs": [
    {
     "data": {
      "text/html": [
       "<div>\n",
       "<style scoped>\n",
       "    .dataframe tbody tr th:only-of-type {\n",
       "        vertical-align: middle;\n",
       "    }\n",
       "\n",
       "    .dataframe tbody tr th {\n",
       "        vertical-align: top;\n",
       "    }\n",
       "\n",
       "    .dataframe thead th {\n",
       "        text-align: right;\n",
       "    }\n",
       "</style>\n",
       "<table border=\"1\" class=\"dataframe\">\n",
       "  <thead>\n",
       "    <tr style=\"text-align: right;\">\n",
       "      <th></th>\n",
       "      <th>Ticket ID</th>\n",
       "      <th>Customer Age</th>\n",
       "      <th>Customer Satisfaction Rating</th>\n",
       "    </tr>\n",
       "  </thead>\n",
       "  <tbody>\n",
       "    <tr>\n",
       "      <th>count</th>\n",
       "      <td>8469.000000</td>\n",
       "      <td>8469.000000</td>\n",
       "      <td>2769.000000</td>\n",
       "    </tr>\n",
       "    <tr>\n",
       "      <th>mean</th>\n",
       "      <td>4235.000000</td>\n",
       "      <td>44.026804</td>\n",
       "      <td>2.991333</td>\n",
       "    </tr>\n",
       "    <tr>\n",
       "      <th>std</th>\n",
       "      <td>2444.934048</td>\n",
       "      <td>15.296112</td>\n",
       "      <td>1.407016</td>\n",
       "    </tr>\n",
       "    <tr>\n",
       "      <th>min</th>\n",
       "      <td>1.000000</td>\n",
       "      <td>18.000000</td>\n",
       "      <td>1.000000</td>\n",
       "    </tr>\n",
       "    <tr>\n",
       "      <th>25%</th>\n",
       "      <td>2118.000000</td>\n",
       "      <td>31.000000</td>\n",
       "      <td>2.000000</td>\n",
       "    </tr>\n",
       "    <tr>\n",
       "      <th>50%</th>\n",
       "      <td>4235.000000</td>\n",
       "      <td>44.000000</td>\n",
       "      <td>3.000000</td>\n",
       "    </tr>\n",
       "    <tr>\n",
       "      <th>75%</th>\n",
       "      <td>6352.000000</td>\n",
       "      <td>57.000000</td>\n",
       "      <td>4.000000</td>\n",
       "    </tr>\n",
       "    <tr>\n",
       "      <th>max</th>\n",
       "      <td>8469.000000</td>\n",
       "      <td>70.000000</td>\n",
       "      <td>5.000000</td>\n",
       "    </tr>\n",
       "  </tbody>\n",
       "</table>\n",
       "</div>"
      ],
      "text/plain": [
       "         Ticket ID  Customer Age  Customer Satisfaction Rating\n",
       "count  8469.000000   8469.000000                   2769.000000\n",
       "mean   4235.000000     44.026804                      2.991333\n",
       "std    2444.934048     15.296112                      1.407016\n",
       "min       1.000000     18.000000                      1.000000\n",
       "25%    2118.000000     31.000000                      2.000000\n",
       "50%    4235.000000     44.000000                      3.000000\n",
       "75%    6352.000000     57.000000                      4.000000\n",
       "max    8469.000000     70.000000                      5.000000"
      ]
     },
     "execution_count": 23,
     "metadata": {},
     "output_type": "execute_result"
    }
   ],
   "source": [
    "df.describe()   #Summary Stats"
   ]
  },
  {
   "cell_type": "code",
   "execution_count": 25,
   "id": "1ea8d584-d951-4fc9-90f9-edce31faf43f",
   "metadata": {},
   "outputs": [
    {
     "data": {
      "text/plain": [
       "Ticket ID                          0\n",
       "Customer Name                      0\n",
       "Customer Email                     0\n",
       "Customer Age                       0\n",
       "Customer Gender                    0\n",
       "Product Purchased                  0\n",
       "Date of Purchase                   0\n",
       "Ticket Type                        0\n",
       "Ticket Subject                     0\n",
       "Ticket Description                 0\n",
       "Ticket Status                      0\n",
       "Resolution                         0\n",
       "Ticket Priority                    0\n",
       "Ticket Channel                     0\n",
       "First Response Time             2819\n",
       "Time to Resolution              5700\n",
       "Customer Satisfaction Rating    5700\n",
       "dtype: int64"
      ]
     },
     "execution_count": 25,
     "metadata": {},
     "output_type": "execute_result"
    }
   ],
   "source": [
    "#### Missing Value Analysis\n",
    "\n",
    "df.isnull().sum()"
   ]
  },
  {
   "cell_type": "code",
   "execution_count": 27,
   "id": "1f984717-b299-4c5f-81d8-567eee9efadf",
   "metadata": {},
   "outputs": [
    {
     "data": {
      "text/plain": [
       "Ticket ID                       8469\n",
       "Customer Name                   8028\n",
       "Customer Email                  8320\n",
       "Customer Age                      53\n",
       "Customer Gender                    3\n",
       "Product Purchased                 42\n",
       "Date of Purchase                 730\n",
       "Ticket Type                        5\n",
       "Ticket Subject                    16\n",
       "Ticket Description              8077\n",
       "Ticket Status                      3\n",
       "Resolution                      2770\n",
       "Ticket Priority                    4\n",
       "Ticket Channel                     4\n",
       "First Response Time             1502\n",
       "Time to Resolution              1283\n",
       "Customer Satisfaction Rating       5\n",
       "dtype: int64"
      ]
     },
     "execution_count": 27,
     "metadata": {},
     "output_type": "execute_result"
    }
   ],
   "source": [
    "### Unique Values Per Column\n",
    "\n",
    "df.nunique()"
   ]
  },
  {
   "cell_type": "code",
   "execution_count": 29,
   "id": "f1e2f6dd-ceef-430f-b638-5f485000fe70",
   "metadata": {},
   "outputs": [
    {
     "name": "stdout",
     "output_type": "stream",
     "text": [
      "Ticket Status\n",
      "Pending Customer Response    2881\n",
      "Open                         2819\n",
      "Closed                       2769\n",
      "Name: count, dtype: int64\n",
      "Ticket Priority\n",
      "Medium      2192\n",
      "Critical    2129\n",
      "High        2085\n",
      "Low         2063\n",
      "Name: count, dtype: int64\n",
      "Ticket Channel\n",
      "Email           2143\n",
      "Phone           2132\n",
      "Social media    2121\n",
      "Chat            2073\n",
      "Name: count, dtype: int64\n"
     ]
    }
   ],
   "source": [
    "### Categorical Feature Distributions\n",
    "\n",
    "print(df['Ticket Status'].value_counts())\n",
    "print(df['Ticket Priority'].value_counts())\n",
    "print(df['Ticket Channel'].value_counts())"
   ]
  },
  {
   "cell_type": "code",
   "execution_count": 33,
   "id": "e8f081d9-2fb2-4e44-bb72-307fc6de74c3",
   "metadata": {},
   "outputs": [],
   "source": [
    "### Date Conversion\n",
    "\n",
    "df['Date of Purchase'] = pd.to_datetime(df['Date of Purchase'], dayfirst=True)\n",
    "df['First Response Time'] = pd.to_datetime(df['First Response Time'], dayfirst=True, errors='coerce')\n",
    "df['Time to Resolution'] = pd.to_datetime(df['Time to Resolution'], errors='coerce')"
   ]
  },
  {
   "cell_type": "code",
   "execution_count": 42,
   "id": "af84aa70-7634-4c4c-a1b7-c549d5574e88",
   "metadata": {},
   "outputs": [
    {
     "data": {
      "text/html": [
       "<div>\n",
       "<style scoped>\n",
       "    .dataframe tbody tr th:only-of-type {\n",
       "        vertical-align: middle;\n",
       "    }\n",
       "\n",
       "    .dataframe tbody tr th {\n",
       "        vertical-align: top;\n",
       "    }\n",
       "\n",
       "    .dataframe thead th {\n",
       "        text-align: right;\n",
       "    }\n",
       "</style>\n",
       "<table border=\"1\" class=\"dataframe\">\n",
       "  <thead>\n",
       "    <tr style=\"text-align: right;\">\n",
       "      <th></th>\n",
       "      <th>Resolution Time (Hours)</th>\n",
       "      <th>Customer Satisfaction Rating</th>\n",
       "    </tr>\n",
       "  </thead>\n",
       "  <tbody>\n",
       "    <tr>\n",
       "      <th>count</th>\n",
       "      <td>2670.000000</td>\n",
       "      <td>2769.000000</td>\n",
       "    </tr>\n",
       "    <tr>\n",
       "      <th>mean</th>\n",
       "      <td>-3497.979313</td>\n",
       "      <td>2.991333</td>\n",
       "    </tr>\n",
       "    <tr>\n",
       "      <th>std</th>\n",
       "      <td>65.188133</td>\n",
       "      <td>1.407016</td>\n",
       "    </tr>\n",
       "    <tr>\n",
       "      <th>min</th>\n",
       "      <td>-3526.866667</td>\n",
       "      <td>1.000000</td>\n",
       "    </tr>\n",
       "    <tr>\n",
       "      <th>25%</th>\n",
       "      <td>-3510.412500</td>\n",
       "      <td>2.000000</td>\n",
       "    </tr>\n",
       "    <tr>\n",
       "      <th>50%</th>\n",
       "      <td>-3503.458333</td>\n",
       "      <td>3.000000</td>\n",
       "    </tr>\n",
       "    <tr>\n",
       "      <th>75%</th>\n",
       "      <td>-3497.016667</td>\n",
       "      <td>4.000000</td>\n",
       "    </tr>\n",
       "    <tr>\n",
       "      <th>max</th>\n",
       "      <td>-2762.500000</td>\n",
       "      <td>5.000000</td>\n",
       "    </tr>\n",
       "  </tbody>\n",
       "</table>\n",
       "</div>"
      ],
      "text/plain": [
       "       Resolution Time (Hours)  Customer Satisfaction Rating\n",
       "count              2670.000000                   2769.000000\n",
       "mean              -3497.979313                      2.991333\n",
       "std                  65.188133                      1.407016\n",
       "min               -3526.866667                      1.000000\n",
       "25%               -3510.412500                      2.000000\n",
       "50%               -3503.458333                      3.000000\n",
       "75%               -3497.016667                      4.000000\n",
       "max               -2762.500000                      5.000000"
      ]
     },
     "execution_count": 42,
     "metadata": {},
     "output_type": "execute_result"
    }
   ],
   "source": [
    "### Calculate Resolution Time (in hours)\n",
    "\n",
    "df['Resolution Time (Hours)'] = (df['Time to Resolution'] - df['First Response Time']).dt.total_seconds() / 3600\n",
    "\n",
    "df[['Resolution Time (Hours)', 'Customer Satisfaction Rating']].describe()"
   ]
  },
  {
   "cell_type": "code",
   "execution_count": 44,
   "id": "ca62b872-7391-4a9f-9cfa-484a6d9cf44f",
   "metadata": {},
   "outputs": [
    {
     "data": {
      "image/png": "[encoded data removed]",
      "text/plain": [
       "<Figure size 640x480 with 1 Axes>"
      ]
     },
     "metadata": {},
     "output_type": "display_data"
    }
   ],
   "source": [
    "sns.countplot(data=df, x='Ticket Status')\n",
    "plt.title('Ticket Status Distribution')\n",
    "plt.xticks(rotation=45)\n",
    "plt.show()"
   ]
  },
  {
   "cell_type": "code",
   "execution_count": 46,
   "id": "aebd9a28-ca4c-42ef-bc9a-cf7a65159877",
   "metadata": {},
   "outputs": [
    {
     "data": {
      "image/png": "[encoded data removed]",
      "text/plain": [
       "<Figure size 640x480 with 1 Axes>"
      ]
     },
     "metadata": {},
     "output_type": "display_data"
    }
   ],
   "source": [
    "sns.countplot(data=df, x='Ticket Priority', order=df['Ticket Priority'].value_counts().index)\n",
    "plt.title('Ticket Priority Distribution')\n",
    "plt.show()"
   ]
  },
  {
   "cell_type": "code",
   "execution_count": 48,
   "id": "bbb36017-3366-4f13-85ac-021f63eea1c1",
   "metadata": {},
   "outputs": [
    {
     "data": {
      "image/png": "[encoded data removed]",
      "text/plain": [
       "<Figure size 640x480 with 1 Axes>"
      ]
     },
     "metadata": {},
     "output_type": "display_data"
    }
   ],
   "source": [
    "sns.countplot(data=df, x='Ticket Channel', order=df['Ticket Channel'].value_counts().index)\n",
    "plt.title('Ticket Channel Usage')\n",
    "plt.xticks(rotation=45)\n",
    "plt.show()"
   ]
  },
  {
   "cell_type": "code",
   "execution_count": null,
   "id": "95162094-388c-4088-b181-c46e4815f92c",
   "metadata": {},
   "outputs": [],
   "source": []
  },
  {
   "cell_type": "code",
   "execution_count": 50,
   "id": "8d2fbebc-8b73-462a-9a17-fe22cc03a246",
   "metadata": {},
   "outputs": [
    {
     "data": {
      "image/png": "[encoded data removed]",
      "text/plain": [
       "<Figure size 640x480 with 1 Axes>"
      ]
     },
     "metadata": {},
     "output_type": "display_data"
    }
   ],
   "source": [
    "sns.boxplot(data=df, x='Ticket Priority', y='Customer Satisfaction Rating')\n",
    "plt.title('Satisfaction Rating by Priority')\n",
    "plt.show()"
   ]
  },
  {
   "cell_type": "code",
   "execution_count": 52,
   "id": "fd0df4a7-27d8-48e6-956b-139314f800f2",
   "metadata": {},
   "outputs": [
    {
     "data": {
      "image/png": "[encoded data removed]",
      "text/plain": [
       "<Figure size 640x480 with 1 Axes>"
      ]
     },
     "metadata": {},
     "output_type": "display_data"
    }
   ],
   "source": [
    "sns.scatterplot(data=df, x='Resolution Time (Hours)', y='Customer Satisfaction Rating', hue='Ticket Priority')\n",
    "plt.title('Resolution Time vs Satisfaction')\n",
    "plt.show()"
   ]
  },
  {
   "cell_type": "code",
   "execution_count": 54,
   "id": "cb7231d0-0f27-42c4-873a-1af212ccd297",
   "metadata": {},
   "outputs": [
    {
     "data": {
      "text/plain": [
       "Ticket Type\n",
       "Cancellation request    3.029070\n",
       "Billing inquiry         3.027574\n",
       "Product inquiry         3.016886\n",
       "Technical issue         2.958621\n",
       "Refund request          2.934564\n",
       "Name: Customer Satisfaction Rating, dtype: float64"
      ]
     },
     "execution_count": 54,
     "metadata": {},
     "output_type": "execute_result"
    }
   ],
   "source": [
    "df.groupby('Ticket Type')['Customer Satisfaction Rating'].mean().sort_values(ascending=False)"
   ]
  },
  {
   "cell_type": "code",
   "execution_count": 56,
   "id": "57b7b3fc-26e5-4b8d-98eb-9e9729c0a77a",
   "metadata": {},
   "outputs": [
    {
     "data": {
      "text/html": [
       "<div>\n",
       "<style scoped>\n",
       "    .dataframe tbody tr th:only-of-type {\n",
       "        vertical-align: middle;\n",
       "    }\n",
       "\n",
       "    .dataframe tbody tr th {\n",
       "        vertical-align: top;\n",
       "    }\n",
       "\n",
       "    .dataframe thead th {\n",
       "        text-align: right;\n",
       "    }\n",
       "</style>\n",
       "<table border=\"1\" class=\"dataframe\">\n",
       "  <thead>\n",
       "    <tr style=\"text-align: right;\">\n",
       "      <th>Ticket Status</th>\n",
       "      <th>Closed</th>\n",
       "      <th>Open</th>\n",
       "      <th>Pending Customer Response</th>\n",
       "    </tr>\n",
       "    <tr>\n",
       "      <th>Ticket Type</th>\n",
       "      <th></th>\n",
       "      <th></th>\n",
       "      <th></th>\n",
       "    </tr>\n",
       "  </thead>\n",
       "  <tbody>\n",
       "    <tr>\n",
       "      <th>Billing inquiry</th>\n",
       "      <td>544</td>\n",
       "      <td>539</td>\n",
       "      <td>551</td>\n",
       "    </tr>\n",
       "    <tr>\n",
       "      <th>Cancellation request</th>\n",
       "      <td>516</td>\n",
       "      <td>582</td>\n",
       "      <td>597</td>\n",
       "    </tr>\n",
       "    <tr>\n",
       "      <th>Product inquiry</th>\n",
       "      <td>533</td>\n",
       "      <td>532</td>\n",
       "      <td>576</td>\n",
       "    </tr>\n",
       "    <tr>\n",
       "      <th>Refund request</th>\n",
       "      <td>596</td>\n",
       "      <td>564</td>\n",
       "      <td>592</td>\n",
       "    </tr>\n",
       "    <tr>\n",
       "      <th>Technical issue</th>\n",
       "      <td>580</td>\n",
       "      <td>602</td>\n",
       "      <td>565</td>\n",
       "    </tr>\n",
       "  </tbody>\n",
       "</table>\n",
       "</div>"
      ],
      "text/plain": [
       "Ticket Status         Closed  Open  Pending Customer Response\n",
       "Ticket Type                                                  \n",
       "Billing inquiry          544   539                        551\n",
       "Cancellation request     516   582                        597\n",
       "Product inquiry          533   532                        576\n",
       "Refund request           596   564                        592\n",
       "Technical issue          580   602                        565"
      ]
     },
     "execution_count": 56,
     "metadata": {},
     "output_type": "execute_result"
    }
   ],
   "source": [
    "df.groupby(['Ticket Type', 'Ticket Status']).size().unstack(fill_value=0)"
   ]
  },
  {
   "cell_type": "code",
   "execution_count": null,
   "id": "e974851a-b461-40e5-9ba4-4ffb60085941",
   "metadata": {},
   "outputs": [],
   "source": []
  }
 ],
 "metadata": {
  "kernelspec": {
   "display_name": "Python 3 (ipykernel)",
   "language": "python",
   "name": "python3"
  },
  "language_info": {
   "codemirror_mode": {
    "name": "ipython",
    "version": 3
   },
   "file_extension": ".py",
   "mimetype": "text/x-python",
   "name": "python",
   "nbconvert_exporter": "python",
   "pygments_lexer": "ipython3",
   "version": "3.12.7"
  }
 },
 "nbformat": 4,
 "nbformat_minor": 5
}
